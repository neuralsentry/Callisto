{
 "cells": [
  {
   "cell_type": "code",
   "execution_count": 1,
   "metadata": {},
   "outputs": [],
   "source": [
    "import os\n",
    "import sys\n",
    "import time\n",
    "import subprocess\n",
    "import platform\n",
    "from sgrep.controller import analyzeC\n",
    "import pandas as pd\n",
    "from sklearn.metrics import confusion_matrix, accuracy_score, classification_report\n",
    "from sklearn.model_selection import train_test_split\n",
    "from tqdm import tqdm"
   ]
  },
  {
   "cell_type": "markdown",
   "metadata": {},
   "source": [
    "### Generate test data"
   ]
  },
  {
   "cell_type": "code",
   "execution_count": 3,
   "metadata": {},
   "outputs": [],
   "source": [
    "df = pd.read_csv('data/bigvul_devign_cvefixes_reveal_functions_balanced_test_10.csv')\n",
    "\n",
    "test_label = df['labels'].tolist()"
   ]
  },
  {
   "cell_type": "code",
   "execution_count": 5,
   "metadata": {},
   "outputs": [
    {
     "name": "stderr",
     "output_type": "stream",
     "text": [
      "Generating function predictions:   0%|          | 0/7122 [00:00<?, ?it/s]"
     ]
    },
    {
     "name": "stderr",
     "output_type": "stream",
     "text": [
      "Generating function predictions: 100%|██████████| 7122/7122 [5:53:32<00:00,  2.98s/it]   \n"
     ]
    }
   ],
   "source": [
    "# semgrepAnalysis = \"\"\n",
    "# pred_label = []\n",
    "\n",
    "def run_semgrep(function):\n",
    "    result = analyzeC(function)\n",
    "    pbar.update()\n",
    "    if str(result) != '':\n",
    "        return 1\n",
    "    else:\n",
    "        return 0\n",
    "\n",
    "with tqdm(total=len(df), desc= \"Generating function predictions\") as pbar:\n",
    "    df['prediction'] = df['function'].apply(lambda x: run_semgrep(x))\n",
    "    \n",
    "pred_label = df['prediction'].tolist()"
   ]
  },
  {
   "cell_type": "code",
   "execution_count": 10,
   "metadata": {},
   "outputs": [
    {
     "name": "stdout",
     "output_type": "stream",
     "text": [
      "\n",
      "\n",
      ">>> Confusion Matrix: \n",
      "TP: 1545, FP: 1025 \n",
      "FN: 2036, TN: 2516 \n",
      "\n",
      ">>> Accuracy:  0.5702049985959 \n",
      "\n",
      ">>>: Classification Report:\n",
      "               precision    recall  f1-score   support\n",
      "\n",
      "  non-bugfix       0.55      0.71      0.62      3541\n",
      "      bugfix       0.60      0.43      0.50      3581\n",
      "\n",
      "    accuracy                           0.57      7122\n",
      "   macro avg       0.58      0.57      0.56      7122\n",
      "weighted avg       0.58      0.57      0.56      7122\n",
      "\n"
     ]
    }
   ],
   "source": [
    "# Evaluation\n",
    "report = classification_report(test_label,pred_label,target_names=[\"non-bugfix\", \"bugfix\"],)\n",
    "confusion_matrix_metric = confusion_matrix(test_label,pred_label)\n",
    "accuracy_metric = accuracy_score(test_label, pred_label)\n",
    "print(  \"\\n\\n>>> Confusion Matrix:\",\n",
    "  f\"\\nTP: {confusion_matrix_metric[1][1]}, FP: {confusion_matrix_metric[0][1]}\",\n",
    "  f\"\\nFN: {confusion_matrix_metric[1][0]}, TN: {confusion_matrix_metric[0][0]}\",\n",
    "  \"\\n\\n>>> Accuracy: \",\n",
    "  accuracy_metric,\n",
    "  \"\\n\\n>>>: Classification Report:\\n\",\n",
    "  report)"
   ]
  }
 ],
 "metadata": {
  "kernelspec": {
   "display_name": "venv",
   "language": "python",
   "name": "python3"
  },
  "language_info": {
   "codemirror_mode": {
    "name": "ipython",
    "version": 3
   },
   "file_extension": ".py",
   "mimetype": "text/x-python",
   "name": "python",
   "nbconvert_exporter": "python",
   "pygments_lexer": "ipython3",
   "version": "3.8.10"
  },
  "orig_nbformat": 4
 },
 "nbformat": 4,
 "nbformat_minor": 2
}
